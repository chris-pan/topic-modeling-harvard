{
 "cells": [
  {
   "cell_type": "code",
   "execution_count": 1,
   "metadata": {},
   "outputs": [
    {
     "name": "stdout",
     "output_type": "stream",
     "text": [
      "CPU times: user 332 ms, sys: 144 ms, total: 475 ms\n",
      "Wall time: 705 ms\n"
     ]
    }
   ],
   "source": [
    "%%time\n",
    "import pandas as pd\n",
    "import random\n",
    "random.seed(42)"
   ]
  },
  {
   "cell_type": "code",
   "execution_count": 6,
   "metadata": {},
   "outputs": [
    {
     "name": "stdout",
     "output_type": "stream",
     "text": [
      "CPU times: user 32.6 ms, sys: 14.5 ms, total: 47.1 ms\n",
      "Wall time: 58.6 ms\n"
     ]
    }
   ],
   "source": [
    "%%time\n",
    "df = pd.read_csv('/Users/christopherpan 1/Desktop/Topic Modeling Project Part 4/topic model hem/TAG_HEM.csv',sep=\",\")"
   ]
  },
  {
   "cell_type": "code",
   "execution_count": 7,
   "metadata": {},
   "outputs": [
    {
     "name": "stdout",
     "output_type": "stream",
     "text": [
      "CPU times: user 26 µs, sys: 40 µs, total: 66 µs\n",
      "Wall time: 69.9 µs\n"
     ]
    },
    {
     "data": {
      "text/plain": [
       "(25738, 3)"
      ]
     },
     "execution_count": 7,
     "metadata": {},
     "output_type": "execute_result"
    }
   ],
   "source": [
    "%%time\n",
    "df.shape"
   ]
  },
  {
   "cell_type": "code",
   "execution_count": 8,
   "metadata": {},
   "outputs": [
    {
     "name": "stdout",
     "output_type": "stream",
     "text": [
      "CPU times: user 34 µs, sys: 1e+03 ns, total: 35 µs\n",
      "Wall time: 38.1 µs\n"
     ]
    }
   ],
   "source": [
    "%%time\n",
    "pd.set_option('display.max_columns', 10)\n",
    "pd.set_option('display.max_rows', 10)"
   ]
  },
  {
   "cell_type": "code",
   "execution_count": 9,
   "metadata": {
    "scrolled": true
   },
   "outputs": [
    {
     "name": "stdout",
     "output_type": "stream",
     "text": [
      "CPU times: user 4 µs, sys: 1 µs, total: 5 µs\n",
      "Wall time: 7.87 µs\n"
     ]
    },
    {
     "data": {
      "text/html": [
       "<div>\n",
       "<style scoped>\n",
       "    .dataframe tbody tr th:only-of-type {\n",
       "        vertical-align: middle;\n",
       "    }\n",
       "\n",
       "    .dataframe tbody tr th {\n",
       "        vertical-align: top;\n",
       "    }\n",
       "\n",
       "    .dataframe thead th {\n",
       "        text-align: right;\n",
       "    }\n",
       "</style>\n",
       "<table border=\"1\" class=\"dataframe\">\n",
       "  <thead>\n",
       "    <tr style=\"text-align: right;\">\n",
       "      <th></th>\n",
       "      <th>Filename</th>\n",
       "      <th>Max_Tag</th>\n",
       "      <th>Avg_Tag</th>\n",
       "    </tr>\n",
       "  </thead>\n",
       "  <tbody>\n",
       "    <tr>\n",
       "      <th>0</th>\n",
       "      <td>0.txt</td>\n",
       "      <td>0.210977</td>\n",
       "      <td>0.134014</td>\n",
       "    </tr>\n",
       "    <tr>\n",
       "      <th>1</th>\n",
       "      <td>1.txt</td>\n",
       "      <td>0.290641</td>\n",
       "      <td>0.150073</td>\n",
       "    </tr>\n",
       "    <tr>\n",
       "      <th>2</th>\n",
       "      <td>100.txt</td>\n",
       "      <td>0.096557</td>\n",
       "      <td>0.088142</td>\n",
       "    </tr>\n",
       "    <tr>\n",
       "      <th>3</th>\n",
       "      <td>1000.txt</td>\n",
       "      <td>0.259620</td>\n",
       "      <td>0.150228</td>\n",
       "    </tr>\n",
       "    <tr>\n",
       "      <th>4</th>\n",
       "      <td>10001.txt</td>\n",
       "      <td>0.097416</td>\n",
       "      <td>0.096160</td>\n",
       "    </tr>\n",
       "    <tr>\n",
       "      <th>...</th>\n",
       "      <td>...</td>\n",
       "      <td>...</td>\n",
       "      <td>...</td>\n",
       "    </tr>\n",
       "    <tr>\n",
       "      <th>25733</th>\n",
       "      <td>intracerebral-hemorrhage.html.txt</td>\n",
       "      <td>0.773418</td>\n",
       "      <td>0.433963</td>\n",
       "    </tr>\n",
       "    <tr>\n",
       "      <th>25734</th>\n",
       "      <td>ischemic-stroke.html.txt</td>\n",
       "      <td>0.808400</td>\n",
       "      <td>0.333155</td>\n",
       "    </tr>\n",
       "    <tr>\n",
       "      <th>25735</th>\n",
       "      <td>overview-of-stroke.html.txt</td>\n",
       "      <td>0.692050</td>\n",
       "      <td>0.214836</td>\n",
       "    </tr>\n",
       "    <tr>\n",
       "      <th>25736</th>\n",
       "      <td>subarachnoid-hemorrhage-sah.html.txt</td>\n",
       "      <td>0.687692</td>\n",
       "      <td>0.243316</td>\n",
       "    </tr>\n",
       "    <tr>\n",
       "      <th>25737</th>\n",
       "      <td>transient-ischemic-attack-tia.html.txt</td>\n",
       "      <td>0.567584</td>\n",
       "      <td>0.200319</td>\n",
       "    </tr>\n",
       "  </tbody>\n",
       "</table>\n",
       "<p>25738 rows × 3 columns</p>\n",
       "</div>"
      ],
      "text/plain": [
       "                                     Filename   Max_Tag   Avg_Tag\n",
       "0                                       0.txt  0.210977  0.134014\n",
       "1                                       1.txt  0.290641  0.150073\n",
       "2                                     100.txt  0.096557  0.088142\n",
       "3                                    1000.txt  0.259620  0.150228\n",
       "4                                   10001.txt  0.097416  0.096160\n",
       "...                                       ...       ...       ...\n",
       "25733       intracerebral-hemorrhage.html.txt  0.773418  0.433963\n",
       "25734                ischemic-stroke.html.txt  0.808400  0.333155\n",
       "25735             overview-of-stroke.html.txt  0.692050  0.214836\n",
       "25736    subarachnoid-hemorrhage-sah.html.txt  0.687692  0.243316\n",
       "25737  transient-ischemic-attack-tia.html.txt  0.567584  0.200319\n",
       "\n",
       "[25738 rows x 3 columns]"
      ]
     },
     "execution_count": 9,
     "metadata": {},
     "output_type": "execute_result"
    }
   ],
   "source": [
    "%%time\n",
    "df"
   ]
  },
  {
   "cell_type": "code",
   "execution_count": 10,
   "metadata": {},
   "outputs": [
    {
     "name": "stdout",
     "output_type": "stream",
     "text": [
      "CPU times: user 5.88 ms, sys: 3.02 ms, total: 8.9 ms\n",
      "Wall time: 12.1 ms\n"
     ]
    },
    {
     "data": {
      "text/plain": [
       "count    25738.000000\n",
       "mean         0.176693\n",
       "std          0.097307\n",
       "min          0.094508\n",
       "25%          0.096557\n",
       "50%          0.138094\n",
       "75%          0.238699\n",
       "max          1.000000\n",
       "Name: Max_Tag, dtype: float64"
      ]
     },
     "execution_count": 10,
     "metadata": {},
     "output_type": "execute_result"
    }
   ],
   "source": [
    "%%time\n",
    "df['Max_Tag'].describe()"
   ]
  },
  {
   "cell_type": "code",
   "execution_count": 11,
   "metadata": {},
   "outputs": [
    {
     "name": "stdout",
     "output_type": "stream",
     "text": [
      "CPU times: user 145 ms, sys: 60.7 ms, total: 206 ms\n",
      "Wall time: 306 ms\n"
     ]
    }
   ],
   "source": [
    "%%time\n",
    "%matplotlib inline\n",
    "\n",
    "import matplotlib\n",
    "import numpy as np\n",
    "import matplotlib.pyplot as plt"
   ]
  },
  {
   "cell_type": "code",
   "execution_count": 12,
   "metadata": {},
   "outputs": [
    {
     "name": "stdout",
     "output_type": "stream",
     "text": [
      "CPU times: user 199 ms, sys: 37.8 ms, total: 237 ms\n",
      "Wall time: 311 ms\n"
     ]
    },
    {
     "data": {
      "image/png": "[encoded data removed]",
      "text/plain": [
       "<Figure size 432x288 with 1 Axes>"
      ]
     },
     "metadata": {},
     "output_type": "display_data"
    },
    {
     "data": {
      "image/png": "[encoded data removed]",
      "text/plain": [
       "<Figure size 432x288 with 1 Axes>"
      ]
     },
     "metadata": {},
     "output_type": "display_data"
    }
   ],
   "source": [
    "%%time\n",
    "df.hist(column='Max_Tag', bins=50)\n",
    "df.hist(column='Avg_Tag', bins=50)"
   ]
  },
  {
   "cell_type": "code",
   "execution_count": 13,
   "metadata": {},
   "outputs": [
    {
     "name": "stdout",
     "output_type": "stream",
     "text": [
      "CPU times: user 17 µs, sys: 1 µs, total: 18 µs\n",
      "Wall time: 21 µs\n"
     ]
    },
    {
     "data": {
      "text/plain": [
       "25738"
      ]
     },
     "execution_count": 13,
     "metadata": {},
     "output_type": "execute_result"
    }
   ],
   "source": [
    "%%time\n",
    "len(df)"
   ]
  },
  {
   "cell_type": "code",
   "execution_count": 14,
   "metadata": {},
   "outputs": [
    {
     "name": "stdout",
     "output_type": "stream",
     "text": [
      "CPU times: user 1.75 ms, sys: 617 µs, total: 2.37 ms\n",
      "Wall time: 1.8 ms\n"
     ]
    },
    {
     "data": {
      "text/plain": [
       "False"
      ]
     },
     "execution_count": 14,
     "metadata": {},
     "output_type": "execute_result"
    }
   ],
   "source": [
    "%%time\n",
    "df.isnull().values.any()"
   ]
  },
  {
   "cell_type": "code",
   "execution_count": 48,
   "metadata": {},
   "outputs": [
    {
     "name": "stdout",
     "output_type": "stream",
     "text": [
      "y <= 0.00       :  0 0.0\n",
      "0.00 < y <= 0.05:  0 0.0\n",
      "0.05 < y <= 0.10:  12033 46.75188437330018\n",
      "0.10 < y <= 0.20:  8341 32.40733545730049\n",
      "0.20 < y <= 0.30:  4357 16.928277255420003\n",
      "0.30 < y <= 0.40:  807 3.1354417592664543\n",
      "0.40 < y <= 0.50:  112 0.4351542466392105\n",
      "0.50 < y <= 0.60:  63 0.2447742637345559\n",
      "0.60 < y <= 0.70:  22 0.08547672701841635\n",
      "0.70 < y <= 0.80:  0 0.0\n",
      "0.80 < y <= 0.90:  0 0.0\n",
      "0.90 < y <= 1.00:  3 0.011655917320693139\n",
      "1.00 < y <= 1.10:  0 0.0\n",
      "CPU times: user 48.6 ms, sys: 6.87 ms, total: 55.4 ms\n",
      "Wall time: 51.5 ms\n"
     ]
    }
   ],
   "source": [
    "%%time\n",
    "print('y <= 0.00       : ',len(df[(df['Max_Tag']<=0)]), 100*len(df[(df['Max_Tag']<=0)])/17248.0)\n",
    "print('0.00 < y <= 0.05: ',len(df[(df['Max_Tag']>0) & (df['Max_Tag']<=0.05)]), 100*len(df[(df['Max_Tag']>0) & (df['Max_Tag']<=0.05)])//25738.0)\n",
    "print('0.05 < y <= 0.10: ',len(df[(df['Max_Tag']>0.05) & (df['Max_Tag']<=0.10)]), 100*len(df[(df['Max_Tag']>0.05) & (df['Max_Tag']<=0.10)])/25738.0)\n",
    "print('0.10 < y <= 0.20: ',len(df[(df['Max_Tag']>0.1) & (df['Max_Tag']<=0.20)]), 100*len(df[(df['Max_Tag']>0.1) & (df['Max_Tag']<=0.20)])/25738.0)\n",
    "print('0.20 < y <= 0.30: ',len(df[(df['Max_Tag']>0.2) & (df['Max_Tag']<=0.30)]), 100*len(df[(df['Max_Tag']>0.2) & (df['Max_Tag']<=0.30)])/25738.0)\n",
    "print('0.30 < y <= 0.40: ',len(df[(df['Max_Tag']>0.3) & (df['Max_Tag']<=0.40)]), 100*len(df[(df['Max_Tag']>0.3) & (df['Max_Tag']<=0.40)])/25738.0)\n",
    "print('0.40 < y <= 0.50: ',len(df[(df['Max_Tag']>0.4) & (df['Max_Tag']<=0.50)]), 100*len(df[(df['Max_Tag']>0.4) & (df['Max_Tag']<=0.50)])/25738.0)\n",
    "print('0.50 < y <= 0.60: ',len(df[(df['Max_Tag']>0.5) & (df['Max_Tag']<=0.60)]), 100*len(df[(df['Max_Tag']>0.5) & (df['Max_Tag']<=0.60)])/25738.0)\n",
    "print('0.60 < y <= 0.70: ',len(df[(df['Max_Tag']>0.6) & (df['Max_Tag']<=0.70)]), 100*len(df[(df['Max_Tag']>0.6) & (df['Max_Tag']<=0.70)])/25738.0)\n",
    "print('0.70 < y <= 0.80: ',len(df[(df['Max_Tag']>0.7) & (df['Max_Tag']<=0.80)]), 100*len(df[(df['Max_Tag']>0.7) & (df['Max_Tag']<=0.80)])/25738.0)\n",
    "print('0.80 < y <= 0.90: ',len(df[(df['Max_Tag']>0.8) & (df['Max_Tag']<=0.90)]), 100*len(df[(df['Max_Tag']>0.8) & (df['Max_Tag']<=0.90)])/25738.0)\n",
    "print('0.90 < y <= 1.00: ',len(df[(df['Max_Tag']>0.9) & (df['Max_Tag']<=1)]), 100*len(df[(df['Max_Tag']>0.9) & (df['Max_Tag']<=1)])/25738.0)\n",
    "print('1.00 < y <= 1.10: ',len(df[(df['Max_Tag']>1) & (df['Max_Tag']<=1.1)]), 100*len(df[(df['Max_Tag']>1) & (df['Max_Tag']<=1.1)])/25738.0)"
   ]
  },
  {
   "cell_type": "code",
   "execution_count": 40,
   "metadata": {},
   "outputs": [
    {
     "name": "stdout",
     "output_type": "stream",
     "text": [
      "CPU times: user 25 µs, sys: 1 µs, total: 26 µs\n",
      "Wall time: 30.3 µs\n"
     ]
    },
    {
     "data": {
      "text/plain": [
       "(25738, 3)"
      ]
     },
     "execution_count": 40,
     "metadata": {},
     "output_type": "execute_result"
    }
   ],
   "source": [
    "%%time\n",
    "df.shape"
   ]
  },
  {
   "cell_type": "code",
   "execution_count": null,
   "metadata": {},
   "outputs": [],
   "source": []
  },
  {
   "cell_type": "code",
   "execution_count": 13,
   "metadata": {},
   "outputs": [
    {
     "name": "stdout",
     "output_type": "stream",
     "text": [
      "CPU times: user 766 ms, sys: 586 ms, total: 1.35 s\n",
      "Wall time: 1.49 s\n"
     ]
    }
   ],
   "source": [
    "%%time\n",
    "#10% training data with cosine similarity > 0.3, remaining 90% is randomly selected from < 0.3\n",
    "\n",
    "df_tr0 = df[df['Max_Tag'] > 0.6]\n",
    "df_tr1 = df_tr0.sample(n=45)\n",
    "df_tr2 = df.drop(df_tr1.index)\n",
    "df_tr2half = df[df['Max_Tag'] < 0.3]\n",
    "df_tr3 = df_tr2half.sample(n=540)\n",
    "\n",
    "train_1_fr = [df_tr1, df_tr3]\n",
    "train_1 = pd.concat(train_1_fr)"
   ]
  },
  {
   "cell_type": "code",
   "execution_count": 49,
   "metadata": {},
   "outputs": [
    {
     "name": "stdout",
     "output_type": "stream",
     "text": [
      "CPU times: user 13.9 ms, sys: 3.17 ms, total: 17 ms\n",
      "Wall time: 16 ms\n"
     ]
    }
   ],
   "source": [
    "%%time\n",
    "#Bias strategy -- pick 50% of all 0.90 < y <= 1.00 = 10\n",
    "#and 20% training data with cosine similarity > 0.3, remaining randomly selected \n",
    "\n",
    "df_tr4 = df[df['Max_Tag'] > 0.6]\n",
    "df_tr5 = df_tr4.sample(n=0)\n",
    "df_tr6 = df.drop(df_tr5.index)\n",
    "df_tr7 = df_tr6[df_tr6['Max_Tag'] > 0.5]\n",
    "df_tr8 = df_tr7.sample(n=60 )\n",
    "df_tr9 = df_tr6.drop(df_tr8.index)\n",
    "\n",
    "df_tr2half = df_tr9[df_tr9['Max_Tag'] < 0.3]\n",
    "df_tr10 = df_tr2half.sample(n=540)\n",
    "\n",
    "train_2_fr = [df_tr5, df_tr8, df_tr10]\n",
    "train_2 = pd.concat(train_2_fr)\n",
    "\n",
    "#merge_tr = pd.concat([train_1,train_2]).drop_duplicates().reset_index(drop=True)"
   ]
  },
  {
   "cell_type": "code",
   "execution_count": 50,
   "metadata": {},
   "outputs": [
    {
     "name": "stdout",
     "output_type": "stream",
     "text": [
      "CPU times: user 5.54 ms, sys: 2.24 ms, total: 7.78 ms\n",
      "Wall time: 6.17 ms\n"
     ]
    }
   ],
   "source": [
    "%%time\n",
    "#test = df.drop(merge_tr.index)\n",
    "#train_1.to_csv('/Users/christopherpan 1/Desktop/All_Data/Train_Test_Set4/train_1_600_rnd4.csv', sep='|',header=True)\n",
    "train_2.to_csv('/Users/christopherpan 1/Desktop/topic model tia/legitTrain.csv', sep='|',header=True)"
   ]
  },
  {
   "cell_type": "code",
   "execution_count": 16,
   "metadata": {},
   "outputs": [
    {
     "name": "stdout",
     "output_type": "stream",
     "text": [
      "CPU times: user 6.77 s, sys: 330 ms, total: 7.1 s\n",
      "Wall time: 7.65 s\n"
     ]
    }
   ],
   "source": [
    "%%time\n",
    "test_sample = test.sample(n=1200)\n",
    "test_sample.to_csv('/Users/christopherpan 1/Desktop/All_Data/Train_Test_Set4/test_1_1200_rnd4.csv', sep='|',header=True)"
   ]
  },
  {
   "cell_type": "code",
   "execution_count": 18,
   "metadata": {},
   "outputs": [],
   "source": [
    "clean_frame_train_2 = train_2.drop(['file_name', 'file_name_intagged', 'CUI', 'Old_Tag', 'Avg_Tag'], axis=1, inplace=False)"
   ]
  },
  {
   "cell_type": "code",
   "execution_count": 19,
   "metadata": {},
   "outputs": [
    {
     "name": "stdout",
     "output_type": "stream",
     "text": [
      "(600, 6485)\n",
      "(600, 6480)\n"
     ]
    }
   ],
   "source": [
    "print(train_2.shape)\n",
    "print(clean_frame_train_2.shape)"
   ]
  },
  {
   "cell_type": "code",
   "execution_count": 29,
   "metadata": {
    "collapsed": true
   },
   "outputs": [],
   "source": [
    "from sklearn.model_selection import train_test_split\n",
    "\n",
    "y = clean_frame_train_2.Max_Tag\n",
    "#X_train, X_valid, y_train, y_valid = train_test_split(clean_frame_train_2, y, stratify = true, test_size=0.20)\n",
    "X_train, X_valid, y_train, y_valid = train_test_split(clean_frame_train_2, y, test_size=0.20)\n",
    "\n",
    "X_tr = X_train.drop(['Max_Tag'], axis=1)\n",
    "X_vl = X_valid.drop(['Max_Tag'], axis=1)\n",
    "\n",
    "X_tr = X_tr.as_matrix()\n",
    "X_vl = X_vl.as_matrix()\n",
    "\n",
    "y_tr = y_train.as_matrix()\n",
    "y_vl = y_valid.as_matrix()"
   ]
  },
  {
   "cell_type": "code",
   "execution_count": 71,
   "metadata": {},
   "outputs": [
    {
     "name": "stdout",
     "output_type": "stream",
     "text": [
      "[0.         0.         0.         ... 0.00344682 0.00156601 0.0033016 ]\n",
      "Mean squared error: 0.02\n",
      "Variance score: 0.19\n"
     ]
    },
    {
     "data": {
      "image/png": "[encoded data removed]",
      "text/plain": [
       "<matplotlib.figure.Figure at 0x7eefa806ba58>"
      ]
     },
     "metadata": {},
     "output_type": "display_data"
    }
   ],
   "source": [
    "import matplotlib.pyplot as plt\n",
    "import numpy as np\n",
    "from sklearn import datasets, linear_model\n",
    "from sklearn.metrics import mean_squared_error, r2_score\n",
    "from sklearn.linear_model import Ridge\n",
    "from sklearn.ensemble import RandomForestRegressor, GradientBoostingRegressor\n",
    "\n",
    "regr = linear_model.LinearRegression()\n",
    "\n",
    "regr = linear_model.Ridge(alpha=100000)\n",
    "\n",
    "regr = RandomForestRegressor(n_estimators = 100, max_depth=10, random_state=0)\n",
    "\n",
    "regr = GradientBoostingRegressor(n_estimators = 500, max_depth=20, random_state=0)\n",
    "\n",
    "regr.fit(X_tr, y_tr)\n",
    "\n",
    "pred_y_val = regr.predict(X_vl)\n",
    "\n",
    "#Disable for RandomForest\n",
    "#print('Coefficients: \\n', regr.coef_)\n",
    "\n",
    "print(regr.feature_importances_)\n",
    "\n",
    "print(\"Mean squared error: %.2f\"\n",
    "      % mean_squared_error(y_vl, pred_y_val))\n",
    "# Explained variance score: 1 is perfect prediction\n",
    "print('Variance score: %.2f' % r2_score(y_vl, pred_y_val))\n",
    "\n",
    "# Plot outputs\n",
    "plt.scatter(y_vl, pred_y_val,  color='black')\n",
    "plt.plot(y_vl, pred_y_val, color='blue', linewidth=3)\n",
    "\n",
    "plt.xticks(())\n",
    "plt.yticks(())\n",
    "\n",
    "plt.show()"
   ]
  },
  {
   "cell_type": "code",
   "execution_count": null,
   "metadata": {
    "collapsed": true
   },
   "outputs": [],
   "source": [
    "#Import Linear Regression model from scikit-learn.\n",
    "from sklearn.linear_model import LinearRegression\n",
    "def linear_regression(data, power, models_to_plot):\n",
    "    #initialize predictors:\n",
    "    predictors=['x']\n",
    "    if power>=2:\n",
    "        predictors.extend(['x_%d'%i for i in range(2,power+1)])\n",
    "    \n",
    "    #Fit the model\n",
    "    linreg = LinearRegression(normalize=True)\n",
    "    linreg.fit(data[predictors],data['y'])\n",
    "    y_pred = linreg.predict(data[predictors])\n",
    "    \n",
    "    #Check if a plot is to be made for the entered power\n",
    "    if power in models_to_plot:\n",
    "        plt.subplot(models_to_plot[power])\n",
    "        plt.tight_layout()\n",
    "        plt.plot(data['x'],y_pred)\n",
    "        plt.plot(data['x'],data['y'],'.')\n",
    "        plt.title('Plot for power: %d'%power)\n",
    "    \n",
    "    #Return the result in pre-defined format\n",
    "    rss = sum((y_pred-data['y'])**2)\n",
    "    ret = [rss]\n",
    "    ret.extend([linreg.intercept_])\n",
    "    ret.extend(linreg.coef_)\n",
    "    return ret"
   ]
  }
 ],
 "metadata": {
  "kernelspec": {
   "display_name": "Python 3",
   "language": "python",
   "name": "python3"
  },
  "language_info": {
   "codemirror_mode": {
    "name": "ipython",
    "version": 3
   },
   "file_extension": ".py",
   "mimetype": "text/x-python",
   "name": "python",
   "nbconvert_exporter": "python",
   "pygments_lexer": "ipython3",
   "version": "3.6.5"
  }
 },
 "nbformat": 4,
 "nbformat_minor": 2
}
