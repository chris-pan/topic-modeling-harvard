{
 "cells": [
  {
   "cell_type": "code",
   "execution_count": 1,
   "metadata": {},
   "outputs": [],
   "source": [
    "import os\n",
    "f =  open(os.path.join('/Users/christopherpan 1/Desktop/','LEGIT_broad_dict.txt'), 'w')\n",
    "semantics = [' str|cui|sty|sgr|short.upper|common.caution','Sign or Symptom', 'Disease or Syndrome', 'Injury or Poisoning', 'Body Part, Organ, or Organ Component', 'Pathologic Function', 'Mental or Behavioral Dysfunction']\n",
    "\n",
    "\n",
    "oldDict = '/Users/christopherpan 1/Desktop/broad_new_full_dict.txt'\n",
    "with open(oldDict,'r') as dictfile:\n",
    "    data = dictfile.readlines()\n",
    "    for line in data:\n",
    "        if any(s in line for s in semantics):\n",
    "            f.write(line)"
   ]
  },
  {
   "cell_type": "code",
   "execution_count": null,
   "metadata": {},
   "outputs": [],
   "source": []
  }
 ],
 "metadata": {
  "kernelspec": {
   "display_name": "Python 3",
   "language": "python",
   "name": "python3"
  },
  "language_info": {
   "codemirror_mode": {
    "name": "ipython",
    "version": 3
   },
   "file_extension": ".py",
   "mimetype": "text/x-python",
   "name": "python",
   "nbconvert_exporter": "python",
   "pygments_lexer": "ipython3",
   "version": "3.6.5"
  }
 },
 "nbformat": 4,
 "nbformat_minor": 2
}
