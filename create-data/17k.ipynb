{
 "cells": [
  {
   "cell_type": "code",
   "execution_count": 2,
   "metadata": {},
   "outputs": [],
   "source": [
    "titles = []\n",
    "with open('/Users/christopherpan 1/Desktop/Topic Modeling Project Part 3/New_Tags.txt','r') as f:\n",
    "    data = f.readlines()\n",
    "    for line in data:\n",
    "        l = line.split('.txt')\n",
    "        titles.append(l[0])"
   ]
  },
  {
   "cell_type": "code",
   "execution_count": 3,
   "metadata": {},
   "outputs": [
    {
     "data": {
      "text/plain": [
       "17270"
      ]
     },
     "execution_count": 3,
     "metadata": {},
     "output_type": "execute_result"
    }
   ],
   "source": [
    "len(titles)"
   ]
  },
  {
   "cell_type": "code",
   "execution_count": 4,
   "metadata": {
    "scrolled": true
   },
   "outputs": [
    {
     "data": {
      "text/plain": [
       "['000001.htm',\n",
       " '000005.htm',\n",
       " '000006.htm',\n",
       " '000007.htm',\n",
       " '000008.htm',\n",
       " '000010.htm',\n",
       " '000011.htm',\n",
       " '000012.htm',\n",
       " '000013.htm',\n",
       " '000014.htm']"
      ]
     },
     "execution_count": 4,
     "metadata": {},
     "output_type": "execute_result"
    }
   ],
   "source": [
    "titles[0:10]"
   ]
  },
  {
   "cell_type": "code",
   "execution_count": 5,
   "metadata": {},
   "outputs": [],
   "source": [
    "theData = []\n",
    "with open('/Users/christopherpan 1/Desktop/Topic Modeling Project Part 5/test_db_res_UPDATED.txt','r') as f1:\n",
    "    data = f1.readlines()\n",
    "    for line in data:\n",
    "        if line.split('|')[0] in titles:\n",
    "            theData.append(line)\n"
   ]
  },
  {
   "cell_type": "code",
   "execution_count": 7,
   "metadata": {},
   "outputs": [],
   "source": [
    "theDictlist = []\n",
    "\n",
    "for line in theData:\n",
    "    l = line.split('|')\n",
    "    cuis = l[2].split(',')\n",
    "    for cui in cuis:\n",
    "        cui = cui.replace('\\n','')\n",
    "        if cui in theDictlist:\n",
    "            continue\n",
    "        else:\n",
    "            theDictlist.append(cui)"
   ]
  },
  {
   "cell_type": "code",
   "execution_count": 8,
   "metadata": {},
   "outputs": [],
   "source": [
    "theDictlist.sort()"
   ]
  },
  {
   "cell_type": "code",
   "execution_count": 6,
   "metadata": {},
   "outputs": [
    {
     "data": {
      "text/plain": [
       "17270"
      ]
     },
     "execution_count": 6,
     "metadata": {},
     "output_type": "execute_result"
    }
   ],
   "source": [
    "len(theData)"
   ]
  },
  {
   "cell_type": "code",
   "execution_count": 26,
   "metadata": {},
   "outputs": [
    {
     "data": {
      "text/plain": [
       "26808"
      ]
     },
     "execution_count": 26,
     "metadata": {},
     "output_type": "execute_result"
    }
   ],
   "source": [
    "len(theDictlist)"
   ]
  },
  {
   "cell_type": "code",
   "execution_count": 50,
   "metadata": {
    "scrolled": true
   },
   "outputs": [
    {
     "data": {
      "text/plain": [
       "'000012.htm|9|C0227086,C0227089,C0227089,C0013142,C0004044,C0011119,C0344192,C0175677,C3263722,C3263723,C0227089,C0024109,C0270611,C0339510,C0458827,C0227089,C0018787,C1281570,C0270611,C0227037,C0227037,C0227039,C0227089,C1553500,C2745965,C0018787,C1281570,C0227089,C0227089,C0227089,C0011119,C0344192,C0013142,C0036974,C0019080,C0744612,C1710055,C0024115,C0032343,C0004044,C1457887,C0227032,C1852577,C0040822,C0227033,C0227034,C1281590,C1281592,C0227037,C0018563,C1281583,C0038293,C0028109,C0038293,C0018563,C1281583,C1281590,C0013080,C0227073,C0227073,C0227033,C0227034,C0227037,C0227038,C0227039,C0227040,C0227042,C0227043,C0227045,C0227046,C0227047,C0227048,C0227051,C0227052,C0227053,C0227054,C0227055,C0227056,C0227059,C0227060,C0227061,C0227062,C0227064,C0227065,C0227067,C0227068,C0227069,C0227070,C0227073,C0227038,C0458827,C0018563,C1281583,C1281590,C0013080,C0018563,C1281583,C0227039,C0013443,C0521421,C0028429,C1278896,C1279153,C0227040,C0418416,C0028429,C1278896,C1281590,C0227089,C0227042,C0227033,C0010200,C0227043,C1281590,C1281592,C0018787,C1281570,C0227089,C0227089,C0227089,C0227089,C0227033,C0227089,C2607929,C0227089,C0600688,C0227089,C0227089,C0037937\\n'"
      ]
     },
     "execution_count": 50,
     "metadata": {},
     "output_type": "execute_result"
    }
   ],
   "source": [
    "theData[8]"
   ]
  },
  {
   "cell_type": "code",
   "execution_count": 52,
   "metadata": {},
   "outputs": [],
   "source": [
    "f = open('/Users/christopherpan 1/Desktop/CUIsource_url.txt','w')\n",
    "f.write('Source,URL (unless wiki)\\n')\n",
    "for data in theData:\n",
    "    name = data.split('|')[0]\n",
    "    if '.html' in name:\n",
    "        f.write('Merck Manual,https://www.merckmanuals.com/professional/' + name + '\\n')\n",
    "    elif '.htm' in name:\n",
    "        f.write('Medline,https://medlineplus.gov/ency/article/' + name + '\\n')\n",
    "    elif 'overview' in name:\n",
    "        f.write('Medscape,https://emedicine.medscape.com/article/' + name + '\\n')\n",
    "    else:\n",
    "        f.write('Wiki, N/A\\n')\n",
    "f.close()"
   ]
  },
  {
   "cell_type": "code",
   "execution_count": 28,
   "metadata": {},
   "outputs": [],
   "source": [
    "titlesList = []\n",
    "for d in theData:\n",
    "    titlesList.append(d.split('|')[0] + '.txt')"
   ]
  },
  {
   "cell_type": "code",
   "execution_count": 68,
   "metadata": {},
   "outputs": [],
   "source": [
    "f1 = open('/Users/christopherpan 1/Desktop/titlesother.txt','r')\n",
    "f2 = open('/Users/christopherpan 1/Desktop/titleswiki.txt','r')\n",
    "titleCUIs = []\n",
    "f11 = f1.readlines()\n",
    "for line in f11:\n",
    "    titleCUIs.append(line.split('|')[0]+ '.txt;' + line.split('|')[2].replace('\\n',''))\n",
    "f22 = f2.readlines()\n",
    "for line in f22:\n",
    "    titleCUIs.append(line.split('|')[0]+ '.txt;' + line.split('|')[2].replace('\\n',''))"
   ]
  },
  {
   "cell_type": "code",
   "execution_count": 69,
   "metadata": {},
   "outputs": [
    {
     "data": {
      "text/plain": [
       "'000001.htm.txt;C0016658:YES'"
      ]
     },
     "execution_count": 69,
     "metadata": {},
     "output_type": "execute_result"
    }
   ],
   "source": [
    "titleCUIs[0]"
   ]
  },
  {
   "cell_type": "code",
   "execution_count": 70,
   "metadata": {},
   "outputs": [
    {
     "data": {
      "text/plain": [
       "50290"
      ]
     },
     "execution_count": 70,
     "metadata": {},
     "output_type": "execute_result"
    }
   ],
   "source": [
    "len(titleCUIs)"
   ]
  },
  {
   "cell_type": "code",
   "execution_count": 74,
   "metadata": {},
   "outputs": [],
   "source": [
    "f0 = open('/Users/christopherpan 1/Desktop/TitleCUIs.txt','w')\n",
    "f0.write('filename;CUIs in title\\n')\n",
    "for title in titlesList:\n",
    "    for match in titleCUIs:\n",
    "        if title in match:\n",
    "            matc = match.replace(':YES','')\n",
    "            matc = matc.replace(':NO','')\n",
    "            matc = matc.replace(':UNSURE','')\n",
    "            f0.write(matc + '\\n')\n",
    "            break\n",
    "f0.close()"
   ]
  },
  {
   "cell_type": "code",
   "execution_count": 59,
   "metadata": {},
   "outputs": [
    {
     "data": {
      "text/plain": [
       "'0.txt'"
      ]
     },
     "execution_count": 59,
     "metadata": {},
     "output_type": "execute_result"
    }
   ],
   "source": [
    "titlesList[0]"
   ]
  },
  {
   "cell_type": "code",
   "execution_count": 55,
   "metadata": {},
   "outputs": [
    {
     "data": {
      "text/plain": [
       "17270"
      ]
     },
     "execution_count": 55,
     "metadata": {},
     "output_type": "execute_result"
    }
   ],
   "source": [
    "len(titlesList)"
   ]
  },
  {
   "cell_type": "code",
   "execution_count": 31,
   "metadata": {},
   "outputs": [
    {
     "name": "stdout",
     "output_type": "stream",
     "text": [
      "17270\n"
     ]
    }
   ],
   "source": [
    "import os\n",
    "rootdir = '/Users/christopherpan 1/Desktop/TOPIC MODELING PROJECT/Data'\n",
    "i = 0\n",
    "thefilenames = titlesList\n",
    "filenamesLegit = []\n",
    "for fileaa in thefilenames:\n",
    "    fileaaa = fileaa\n",
    "    for subdir, dirs, files in os.walk(rootdir):\n",
    "        for file in files:\n",
    "            filename=os.path.join(subdir, file)\n",
    "            if filename.endswith(('.jpeg', '.jpg', '.png', '.DS_Store', '.gif', '.css', '.js', '.ico')):\n",
    "                continue\n",
    "            else:\n",
    "                filna = os.path.basename(filename)\n",
    "                if filna == fileaaa:\n",
    "                    i += 1\n",
    "                    with open(filename, 'r') as filen:\n",
    "                        data = filen.readlines()\n",
    "                    first = True\n",
    "                    for line in data:\n",
    "                        if first:\n",
    "                            first = False\n",
    "                            filenamesLegit.append(line)\n",
    "                            break\n",
    "print(i)"
   ]
  },
  {
   "cell_type": "code",
   "execution_count": 34,
   "metadata": {},
   "outputs": [
    {
     "data": {
      "text/plain": [
       "'Autism\\n'"
      ]
     },
     "execution_count": 34,
     "metadata": {},
     "output_type": "execute_result"
    }
   ],
   "source": [
    "filenamesLegit[0]"
   ]
  },
  {
   "cell_type": "code",
   "execution_count": 33,
   "metadata": {},
   "outputs": [
    {
     "data": {
      "text/plain": [
       "17270"
      ]
     },
     "execution_count": 33,
     "metadata": {},
     "output_type": "execute_result"
    }
   ],
   "source": [
    "len(filenamesLegit)"
   ]
  },
  {
   "cell_type": "code",
   "execution_count": 36,
   "metadata": {},
   "outputs": [],
   "source": [
    "f = open('/Users/christopherpan 1/Desktop/CUItitles.txt','w')\n",
    "for l in filenamesLegit:\n",
    "    f.write(l)\n",
    "f.close()"
   ]
  },
  {
   "cell_type": "code",
   "execution_count": 51,
   "metadata": {},
   "outputs": [
    {
     "data": {
      "text/plain": [
       "17270"
      ]
     },
     "execution_count": 51,
     "metadata": {},
     "output_type": "execute_result"
    }
   ],
   "source": [
    "#title CUIs file already created (for wiki and non wiki)\n",
    "#title, source, URL, title CUI(s) doesn't have to be 1 file"
   ]
  },
  {
   "cell_type": "code",
   "execution_count": 27,
   "metadata": {},
   "outputs": [],
   "source": [
    "f2 = open('/Users/christopherpan 1/Desktop/CUICounts.txt', 'w')\n",
    "results = theData\n",
    "f2.write('filename')\n",
    "for d in theDictlist:\n",
    "    f2.write(',' + d)\n",
    "f2.write('\\n')\n",
    "for line in results:\n",
    "    l = line.split('|')\n",
    "    title = l[0].replace(',','')\n",
    "    CUIs = l[2].split(',')\n",
    "    f2.write(title)\n",
    "    for di in theDictlist:\n",
    "        count = 0\n",
    "        for cui in CUIs:\n",
    "            if cui.replace('\\n','') == di:\n",
    "                count += 1\n",
    "        f2.write(',' + str(count))\n",
    "    f2.write('\\n')\n",
    "f2.close()"
   ]
  },
  {
   "cell_type": "code",
   "execution_count": null,
   "metadata": {},
   "outputs": [],
   "source": []
  }
 ],
 "metadata": {
  "kernelspec": {
   "display_name": "Python 3",
   "language": "python",
   "name": "python3"
  },
  "language_info": {
   "codemirror_mode": {
    "name": "ipython",
    "version": 3
   },
   "file_extension": ".py",
   "mimetype": "text/x-python",
   "name": "python",
   "nbconvert_exporter": "python",
   "pygments_lexer": "ipython3",
   "version": "3.6.5"
  }
 },
 "nbformat": 4,
 "nbformat_minor": 2
}
