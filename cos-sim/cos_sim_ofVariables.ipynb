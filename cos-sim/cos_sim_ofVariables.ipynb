{
 "cells": [
  {
   "cell_type": "code",
   "execution_count": 5,
   "metadata": {},
   "outputs": [],
   "source": [
    "cos_sim_list = []\n",
    "with open('/Users/christopherpan 1/Desktop/COS_SIM_WITH_STROKE.txt','r') as f1:\n",
    "    data = f1.readlines()\n",
    "    for line in data:\n",
    "        l = line.split(':')\n",
    "        cos_sim_list.append([l[0],l[1].replace('\\n','')])"
   ]
  },
  {
   "cell_type": "code",
   "execution_count": 6,
   "metadata": {},
   "outputs": [
    {
     "data": {
      "text/plain": [
       "['C0038454', '1.0']"
      ]
     },
     "execution_count": 6,
     "metadata": {},
     "output_type": "execute_result"
    }
   ],
   "source": [
    "(cos_sim_list[0])"
   ]
  },
  {
   "cell_type": "code",
   "execution_count": 7,
   "metadata": {},
   "outputs": [],
   "source": [
    "import os\n",
    "f =  open(os.path.join('/Users/christopherpan 1/Desktop/','CUIUniverseLegit.txt'), \"w\")\n",
    "with open('/Users/christopherpan 1/Desktop/CUIUniverse_0.1.txt','r') as f2:\n",
    "    data = f2.readlines()\n",
    "    for line in data:\n",
    "        l = line.split(',')\n",
    "        cui = l[0]\n",
    "        for co in cos_sim_list:\n",
    "            if cui == co[0]:\n",
    "                f.write(cui + ':' + co[1] + '\\n')\n",
    "                break\n",
    "\n",
    "\n",
    "\n",
    "f.close()"
   ]
  },
  {
   "cell_type": "code",
   "execution_count": null,
   "metadata": {},
   "outputs": [],
   "source": []
  }
 ],
 "metadata": {
  "kernelspec": {
   "display_name": "Python 3",
   "language": "python",
   "name": "python3"
  },
  "language_info": {
   "codemirror_mode": {
    "name": "ipython",
    "version": 3
   },
   "file_extension": ".py",
   "mimetype": "text/x-python",
   "name": "python",
   "nbconvert_exporter": "python",
   "pygments_lexer": "ipython3",
   "version": "3.6.5"
  }
 },
 "nbformat": 4,
 "nbformat_minor": 2
}
